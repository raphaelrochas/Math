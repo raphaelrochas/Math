{
 "cells": [
  {
   "cell_type": "markdown",
   "id": "7afaaff8",
   "metadata": {},
   "source": [
    "# Calcule de Matriciel\n"
   ]
  },
  {
   "cell_type": "code",
   "execution_count": 2,
   "id": "1b726e88",
   "metadata": {},
   "outputs": [],
   "source": [
    "from pylab import *\n",
    "import numpy as np"
   ]
  },
  {
   "cell_type": "markdown",
   "id": "b6cf7d3e",
   "metadata": {},
   "source": [
    "- Tableau ```` array() ````  <=> Matrice\n"
   ]
  },
  {
   "cell_type": "code",
   "execution_count": 37,
   "id": "c05c9389",
   "metadata": {},
   "outputs": [
    {
     "name": "stdout",
     "output_type": "stream",
     "text": [
      "[4 7 9] <class 'numpy.ndarray'>\n",
      "[[4 7 9]\n",
      " [4 9 0]] <class 'numpy.ndarray'>\n",
      "[[16 49 81]\n",
      " [16 63  0]]\n"
     ]
    },
    {
     "data": {
      "text/plain": [
       "array([[11],\n",
       "       [32]])"
      ]
     },
     "execution_count": 37,
     "metadata": {},
     "output_type": "execute_result"
    }
   ],
   "source": [
    "aDim1 = array([4,7,9])\n",
    "print(aDim1, type(aDim1)) # Différent d'une liste\n",
    "\n",
    "aDim2 = array([aDim1, [4,9,0]])\n",
    "print(aDim2, type(aDim2))\n",
    "\n",
    "size(aDim2) #Nombre d'éléments dans le tableau\n",
    "shape(aDim2) # Taille du tableau \n",
    "shape(aDim1)\n",
    "\n",
    "# Produit entre deux matrice\n",
    "print(aDim1*aDim2)\n",
    "\n",
    "#Produit matriciel \n",
    "\n",
    "matrice1 = array([[1, 2, 3],[4, 5, 6]])\n",
    "\n",
    "matrice2 = array([[4],[2],[1]])\n",
    "\n",
    "dot(matrice1, matrice2) # Rappel le produit de deux matrice de taille n * m et m * p donne une matrice de taille n * p \n",
    "# Equivalent\n",
    "matrice1@matrice2\n",
    "\n",
    "\n",
    "\n",
    "\n",
    "\n"
   ]
  },
  {
   "cell_type": "code",
   "execution_count": 69,
   "id": "bf4c560e",
   "metadata": {},
   "outputs": [
    {
     "name": "stdout",
     "output_type": "stream",
     "text": [
      "[[3 3 3 3 3 3 3]\n",
      " [3 3 3 3 3 3 3]\n",
      " [3 3 3 3 3 3 3]\n",
      " [3 3 3 3 3 3 3]\n",
      " [3 3 3 3 3 3 3]\n",
      " [3 3 3 3 3 3 3]\n",
      " [3 3 3 3 3 3 3]\n",
      " [3 3 3 3 3 3 3]]\n"
     ]
    }
   ],
   "source": [
    "matrice = array([[3 for i in range(7)] for k in range(8)] )\n",
    "print(matrice)\n",
    "\n",
    "\n"
   ]
  },
  {
   "cell_type": "code",
   "execution_count": 78,
   "id": "2b80e9b3",
   "metadata": {},
   "outputs": [
    {
     "data": {
      "text/plain": [
       "array([[20],\n",
       "       [29]])"
      ]
     },
     "execution_count": 78,
     "metadata": {},
     "output_type": "execute_result"
    }
   ],
   "source": [
    "matrice1 = np.array([[1],[2],[3]])\n",
    "matrice2 = np.array([[2,3,4],\n",
    "                     [1,5,6]])\n",
    "np.dot(matrice2, matrice1)"
   ]
  },
  {
   "cell_type": "code",
   "execution_count": null,
   "id": "e2783a1a",
   "metadata": {},
   "outputs": [],
   "source": []
  }
 ],
 "metadata": {
  "kernelspec": {
   "display_name": "Python 3",
   "language": "python",
   "name": "python3"
  },
  "language_info": {
   "codemirror_mode": {
    "name": "ipython",
    "version": 3
   },
   "file_extension": ".py",
   "mimetype": "text/x-python",
   "name": "python",
   "nbconvert_exporter": "python",
   "pygments_lexer": "ipython3",
   "version": "3.12.3"
  }
 },
 "nbformat": 4,
 "nbformat_minor": 5
}
