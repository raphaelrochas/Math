{
 "cells": [
  {
   "cell_type": "markdown",
   "id": "558e31b0",
   "metadata": {},
   "source": [
    "# intégration numérique avec la méthode Monte Carlo\n",
    "\n",
    " - On génère des points (x,y) aléatoirement, et compter combien sont sous la courbe que l'on souhaite intégrer.\n",
    " - L'erreur sur l'intégral numérique diminue comme $1/\\sqrt{N}$, ce qui rend la méthode particulièrement efficace pour les intégrales à grand nombre de dimensions.\n"
   ]
  },
  {
   "cell_type": "markdown",
   "id": "3fa832dc",
   "metadata": {},
   "source": [
    "Intégral d'une gausienne au limite $(\\mu-\\sigma, \\mu+\\sigma)$ "
   ]
  },
  {
   "cell_type": "code",
   "execution_count": 1,
   "id": "882f3021",
   "metadata": {},
   "outputs": [],
   "source": [
    "import numpy as np\n",
    "from numpy import random\n",
    "import matplotlib.pyplot as plt\n"
   ]
  },
  {
   "cell_type": "code",
   "execution_count": 2,
   "id": "322fbfa3",
   "metadata": {},
   "outputs": [
    {
     "name": "stdout",
     "output_type": "stream",
     "text": [
      "0.10798193302637613\n",
      "La fraction de points sous la courbe est 0.68294\n",
      "L'aire du carré dans lequel nous avons généré est 1.0\n",
      "Du coup, l'aire sous la courbe est 0.68294\n",
      "Nombre de point total 100000\n"
     ]
    }
   ],
   "source": [
    "# Def de la Gaussienne \n",
    "\n",
    "def gaussienne(x, mu, sigma):\n",
    "    norme = 1./(sigma*np.sqrt(2.*np.pi))\n",
    "    exposant = (x-mu)*(x-mu)/(2.*sigma*sigma)\n",
    "    return norme*np.exp(-exposant)\n",
    "\n",
    "# Val numérique\n",
    "\n",
    "mu = 5\n",
    "sigma = 0.5\n",
    "print(gaussienne(4, mu, sigma))\n",
    "\n",
    "# Calcule de l'integral\n",
    "\n",
    "# Df / variable de configuration\n",
    "n = 100000 #Nombre de point générer\n",
    "x = random.uniform(low=mu-sigma,high=mu+sigma,size=n) \n",
    "h = 1 \n",
    "y = y = random.uniform(low=0.,high=h,size=n)\n",
    "compte = 0\n",
    "totalpointer = 0\n",
    "for abscissa, ordonnee in zip(x,y):\n",
    "    f = gaussienne(abscissa,mu,sigma)\n",
    "    totalpointer += 1\n",
    "    if (ordonnee < f) :\n",
    "        compte += 1\n",
    "\n",
    "print(\"La fraction de points sous la courbe est\",float(compte)/n)\n",
    "print(\"L'aire du carré dans lequel nous avons généré est\",2*sigma*1)\n",
    "print(\"Du coup, l'aire sous la courbe est\",2*sigma*h*float(compte)/n)\n",
    "print(f'Nombre de point total {totalpointer}')\n",
    "\n",
    "\n",
    "\n"
   ]
  },
  {
   "cell_type": "markdown",
   "id": "5fe9388f",
   "metadata": {},
   "source": [
    "Volume d'une hypersphere\n"
   ]
  },
  {
   "cell_type": "code",
   "execution_count": 3,
   "id": "43b68e7a",
   "metadata": {},
   "outputs": [],
   "source": [
    "def volume(dimension, rayon, n):\n",
    "    compte = 0\n",
    "    for i in range(n):\n",
    "        point = [random.uniform(-rayon, rayon) for i in range(dimension)]\n",
    "        distance = np.sum(np.fromiter((x**2 for x in point), dtype=float)) ** 0.5\n",
    "        if distance <= rayon:\n",
    "            compte += 1\n",
    "    volume = (compte / n ) * ((2 * rayon)**dimension)\n",
    "    return volume\n",
    "        "
   ]
  },
  {
   "cell_type": "code",
   "execution_count": 4,
   "id": "17ce5ac3",
   "metadata": {},
   "outputs": [
    {
     "data": {
      "text/plain": [
       "0.0"
      ]
     },
     "execution_count": 4,
     "metadata": {},
     "output_type": "execute_result"
    }
   ],
   "source": [
    "volume(100, 10, 100000)"
   ]
  },
  {
   "cell_type": "code",
   "execution_count": 5,
   "id": "0a58f992",
   "metadata": {},
   "outputs": [
    {
     "name": "stdout",
     "output_type": "stream",
     "text": [
      "[1, 2, 3, 4, 5, 6, 7, 8, 9, 10, 11, 12, 13, 14, 15, 16, 17, 18, 19, 20, 21, 22, 23, 24, 25, 26, 27, 28, 29, 30, 31, 32, 33, 34, 35, 36, 37, 38, 39, 40, 41, 42, 43, 44, 45, 46, 47, 48, 49, 50, 51, 52, 53, 54, 55, 56, 57, 58, 59, 60, 61, 62, 63, 64, 65, 66, 67, 68, 69, 70, 71, 72, 73, 74, 75, 76, 77, 78, 79, 80, 81, 82, 83, 84, 85, 86, 87, 88, 89, 90, 91, 92, 93, 94, 95, 96, 97, 98, 99] [10.0, 77.0, 542.0, 3020.0, 17400.0, 92000.0, 380000.0, 1700000.0000000002, 7000000.0, 50000000.0, 100000000.0, 0.0, 0.0, 0.0, 0.0, 0.0, 0.0, 0.0, 0.0, 0.0, 0.0, 0.0, 0.0, 0.0, 0.0, 0.0, 0.0, 0.0, 0.0, 0.0, 0.0, 0.0, 0.0, 0.0, 0.0, 0.0, 0.0, 0.0, 0.0, 0.0, 0.0, 0.0, 0.0, 0.0, 0.0, 0.0, 0.0, 0.0, 0.0, 0.0, 0.0, 0.0, 0.0, 0.0, 0.0, 0.0, 0.0, 0.0, 0.0, 0.0, 0.0, 0.0, 0.0, 0.0, 0.0, 0.0, 0.0, 0.0, 0.0, 0.0, 0.0, 0.0, 0.0, 0.0, 0.0, 0.0, 0.0, 0.0, 0.0, 0.0, 0.0, 0.0, 0.0, 0.0, 0.0, 0.0, 0.0, 0.0, 0.0, 0.0, 0.0, 0.0, 0.0, 0.0, 0.0, 0.0, 0.0, 0.0, 0.0]\n"
     ]
    }
   ],
   "source": [
    "x = list(range(1, 100 ,1))\n",
    "y = [volume(i, 5, 1000) for i in x]\n",
    "print(x, y)\n"
   ]
  },
  {
   "cell_type": "code",
   "execution_count": 7,
   "id": "6eaef3e2",
   "metadata": {},
   "outputs": [
    {
     "data": {
      "text/plain": [
       "Text(0, 0.5, \"Volume de l'hyperSphere\")"
      ]
     },
     "execution_count": 7,
     "metadata": {},
     "output_type": "execute_result"
    },
    {
     "data": {
      "image/png": "[encoded data removed]",
      "text/plain": [
       "<Figure size 640x480 with 1 Axes>"
      ]
     },
     "metadata": {},
     "output_type": "display_data"
    }
   ],
   "source": [
    "plt.plot(x, y)\n",
    "plt.xlabel(\"Dimension\")\n",
    "plt.ylabel(\"Volume de l'hyperSphere\")\n"
   ]
  },
  {
   "cell_type": "code",
   "execution_count": null,
   "id": "04108552",
   "metadata": {},
   "outputs": [],
   "source": []
  }
 ],
 "metadata": {
  "kernelspec": {
   "display_name": "Python 3",
   "language": "python",
   "name": "python3"
  },
  "language_info": {
   "codemirror_mode": {
    "name": "ipython",
    "version": 3
   },
   "file_extension": ".py",
   "mimetype": "text/x-python",
   "name": "python",
   "nbconvert_exporter": "python",
   "pygments_lexer": "ipython3",
   "version": "3.12.3"
  }
 },
 "nbformat": 4,
 "nbformat_minor": 5
}
