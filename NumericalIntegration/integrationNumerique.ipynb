{
 "cells": [
  {
   "cell_type": "markdown",
   "id": "558e31b0",
   "metadata": {},
   "source": [
    "# intégration numérique avec la méthode Monte Carlo\n",
    "\n",
    " - On génère des points (x,y) aléatoirement, et compter combien sont sous la courbe que l'on souhaite intégrer.\n",
    " - L'erreur sur l'intégral numérique diminue comme $1/\\sqrt{N}$, ce qui rend la méthode particulièrement efficace pour les intégrales à grand nombre de dimensions.\n"
   ]
  },
  {
   "cell_type": "markdown",
   "id": "3fa832dc",
   "metadata": {},
   "source": [
    "Intégral d'une gausienne au limite $(\\mu-\\sigma, \\mu+\\sigma)$ "
   ]
  },
  {
   "cell_type": "code",
   "execution_count": 23,
   "id": "882f3021",
   "metadata": {},
   "outputs": [],
   "source": [
    "import numpy as np\n",
    "from numpy import random"
   ]
  },
  {
   "cell_type": "code",
   "execution_count": 24,
   "id": "322fbfa3",
   "metadata": {},
   "outputs": [
    {
     "name": "stdout",
     "output_type": "stream",
     "text": [
      "0.10798193302637613\n",
      "La fraction de points sous la courbe est 0.6797\n",
      "L'aire du carré dans lequel nous avons généré est 1.0\n",
      "Du coup, l'aire sous la courbe est 0.6797\n",
      "Nombre de point total 100000\n"
     ]
    }
   ],
   "source": [
    "# Def de la Gaussienne \n",
    "\n",
    "def gaussienne(x, mu, sigma):\n",
    "    norme = 1./(sigma*np.sqrt(2.*np.pi))\n",
    "    exposant = (x-mu)*(x-mu)/(2.*sigma*sigma)\n",
    "    return norme*np.exp(-exposant)\n",
    "\n",
    "# Val numérique\n",
    "\n",
    "mu = 5\n",
    "sigma = 0.5\n",
    "print(gaussienne(4, mu, sigma))\n",
    "\n",
    "# Calcule de l'integral\n",
    "\n",
    "# Df / variable de configuration\n",
    "n = 100000 #Nombre de point générer\n",
    "x = random.uniform(low=mu-sigma,high=mu+sigma,size=n) \n",
    "h = 1 \n",
    "y = y = random.uniform(low=0.,high=h,size=n)\n",
    "compte = 0\n",
    "totalpointer = 0\n",
    "for abscissa, ordonnee in zip(x,y):\n",
    "    f = gaussienne(abscissa,mu,sigma)\n",
    "    totalpointer += 1\n",
    "    if (ordonnee < f) :\n",
    "        compte += 1\n",
    "\n",
    "print(\"La fraction de points sous la courbe est\",float(compte)/n)\n",
    "print(\"L'aire du carré dans lequel nous avons généré est\",2*sigma*1)\n",
    "print(\"Du coup, l'aire sous la courbe est\",2*sigma*h*float(compte)/n)\n",
    "print(f'Nombre de point total {totalpointer}')\n",
    "\n",
    "\n",
    "\n"
   ]
  },
  {
   "cell_type": "markdown",
   "id": "5fe9388f",
   "metadata": {},
   "source": [
    "Volume d'une hypersphere\n"
   ]
  },
  {
   "cell_type": "code",
   "execution_count": null,
   "id": "43b68e7a",
   "metadata": {},
   "outputs": [],
   "source": [
    "def volume(dimension, rayon, n):\n",
    "    compte = 0\n",
    "    for i in range(n):\n",
    "        point = [random.uniform(-rayon, rayon) for i in range(dimension)]\n",
    "        distance = np.sum(np.fromiter((x**2 for x in point), dtype=float)) ** 0.5\n",
    "        if distance <= rayon:\n",
    "            compte += 1\n",
    "    volume = (compte / n ) * (dimension**2) * (rayon ** dimension)\n",
    "    print(f'Le volume d\\'une hypersphere de dimension {dimension} ~ {volume}')\n",
    "    return volume\n",
    "        "
   ]
  },
  {
   "cell_type": "code",
   "execution_count": 42,
   "id": "17ce5ac3",
   "metadata": {},
   "outputs": [
    {
     "name": "stdout",
     "output_type": "stream",
     "text": [
      "Le volume d'une hypersphere de dimension 4 ~ 3095.8999999999996\n"
     ]
    }
   ],
   "source": [
    "volume(4, 5, 100000)"
   ]
  },
  {
   "cell_type": "code",
   "execution_count": 43,
   "id": "0a58f992",
   "metadata": {},
   "outputs": [
    {
     "name": "stdout",
     "output_type": "stream",
     "text": [
      "Le volume d'une hypersphere de dimension 1 ~ 5.0\n",
      "Le volume d'une hypersphere de dimension 2 ~ 78.2\n",
      "Le volume d'une hypersphere de dimension 3 ~ 594.0000000000001\n",
      "Le volume d'une hypersphere de dimension 4 ~ 2910.0\n",
      "Le volume d'une hypersphere de dimension 5 ~ 12734.375\n",
      "Le volume d'une hypersphere de dimension 6 ~ 42749.99999999999\n",
      "Le volume d'une hypersphere de dimension 7 ~ 141640.625\n",
      "Le volume d'une hypersphere de dimension 8 ~ 250000.0\n",
      "Le volume d'une hypersphere de dimension 9 ~ 1265625.0\n",
      "Le volume d'une hypersphere de dimension 10 ~ 1953125.0\n",
      "[1, 2, 3, 4, 5, 6, 7, 8, 9, 10] [None, None, None, None, None, None, None, None, None, None]\n"
     ]
    }
   ],
   "source": [
    "x = list(range(1,11,1))\n",
    "y = [volume(i, 5, 1000) for i in x]\n",
    "print(x, y)\n"
   ]
  },
  {
   "cell_type": "code",
   "execution_count": null,
   "id": "6eaef3e2",
   "metadata": {},
   "outputs": [],
   "source": []
  }
 ],
 "metadata": {
  "kernelspec": {
   "display_name": "Python 3",
   "language": "python",
   "name": "python3"
  },
  "language_info": {
   "codemirror_mode": {
    "name": "ipython",
    "version": 3
   },
   "file_extension": ".py",
   "mimetype": "text/x-python",
   "name": "python",
   "nbconvert_exporter": "python",
   "pygments_lexer": "ipython3",
   "version": "3.12.3"
  }
 },
 "nbformat": 4,
 "nbformat_minor": 5
}
