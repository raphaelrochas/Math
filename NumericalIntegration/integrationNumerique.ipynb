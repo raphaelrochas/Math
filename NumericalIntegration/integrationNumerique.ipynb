{
 "cells": [
  {
   "cell_type": "markdown",
   "id": "558e31b0",
   "metadata": {},
   "source": [
    "# intégration numérique avec la méthode Monte Carlo\n",
    "\n",
    " - On génère des points (x,y) aléatoirement, et compter combien sont sous la courbe que l'on souhaite intégrer.\n",
    " - L'erreur sur l'intégral numérique diminue comme $1/\\sqrt{N}$, ce qui rend la méthode particulièrement efficace pour les intégrales à grand nombre de dimensions.\n"
   ]
  },
  {
   "cell_type": "markdown",
   "id": "3fa832dc",
   "metadata": {},
   "source": [
    "Intégral d'une gausienne au limite $(\\mu-\\sigma, \\mu+\\sigma)$ "
   ]
  },
  {
   "cell_type": "code",
   "execution_count": 7,
   "id": "882f3021",
   "metadata": {},
   "outputs": [],
   "source": [
    "import numpy as np\n",
    "from numpy import random"
   ]
  },
  {
   "cell_type": "code",
   "execution_count": 18,
   "id": "322fbfa3",
   "metadata": {},
   "outputs": [
    {
     "name": "stdout",
     "output_type": "stream",
     "text": [
      "0.10798193302637613\n",
      "La fraction de points sous la courbe est 0.68461\n",
      "L'aire du carré dans lequel nous avons généré est 1.0\n",
      "Du coup, l'aire sous la courbe est 0.68461\n",
      "Nombre de point total 100000\n"
     ]
    }
   ],
   "source": [
    "# Def de la Gaussienne \n",
    "\n",
    "def gaussienne(x, mu, sigma):\n",
    "    norme = 1./(sigma*np.sqrt(2.*np.pi))\n",
    "    exposant = (x-mu)*(x-mu)/(2.*sigma*sigma)\n",
    "    return norme*np.exp(-exposant)\n",
    "\n",
    "# Val numérique\n",
    "\n",
    "mu = 5\n",
    "sigma = 0.5\n",
    "print(gaussienne(4, mu, sigma))\n",
    "\n",
    "# Calcule de l'integral\n",
    "\n",
    "# Df / variable de configuration\n",
    "n = 100000 #Nombre de point générer\n",
    "x = random.uniform(low=mu-sigma,high=mu+sigma,size=n) \n",
    "h = 1 \n",
    "y = y = random.uniform(low=0.,high=h,size=n)\n",
    "compte = 0\n",
    "totalpointer = 0\n",
    "for abscissa, ordonnee in zip(x,y):\n",
    "    f = gaussienne(abscissa,mu,sigma)\n",
    "    totalpointer += 1\n",
    "    if (ordonnee < f) :\n",
    "        compte += 1\n",
    "\n",
    "print(\"La fraction de points sous la courbe est\",float(compte)/n)\n",
    "print(\"L'aire du carré dans lequel nous avons généré est\",2*sigma*1)\n",
    "print(\"Du coup, l'aire sous la courbe est\",2*sigma*h*float(compte)/n)\n",
    "print(f'Nombre de point total {totalpointer}')\n",
    "\n",
    "\n",
    "\n"
   ]
  },
  {
   "cell_type": "markdown",
   "id": "5fe9388f",
   "metadata": {},
   "source": [
    "Volume d'une hypersphere\n"
   ]
  },
  {
   "cell_type": "code",
   "execution_count": 50,
   "id": "43b68e7a",
   "metadata": {},
   "outputs": [],
   "source": [
    "def volume(dimension, rayon, n):\n",
    "    compte = 0\n",
    "    for i in range(n):\n",
    "        point = [random.uniform(-rayon, rayon) for i in range(dimension)]\n",
    "        distance =sum(x **2 for x in point)** 0.5\n",
    "        if distance <= rayon:\n",
    "            compte += 1\n",
    "    volume = (compte / n ) * (dimension**2) * (rayon ** dimension)\n",
    "    print(f'Le volume d\\'une hypersphere de dimension {dimension} ~ {volume}')\n",
    "        "
   ]
  },
  {
   "cell_type": "code",
   "execution_count": 51,
   "id": "17ce5ac3",
   "metadata": {},
   "outputs": [
    {
     "name": "stdout",
     "output_type": "stream",
     "text": [
      "Le volume d'une hypersphere de dimension 4 ~ 3084.1000000000004\n"
     ]
    }
   ],
   "source": [
    "volume(4, 5, 100000)"
   ]
  },
  {
   "cell_type": "code",
   "execution_count": null,
   "id": "0a58f992",
   "metadata": {},
   "outputs": [],
   "source": []
  }
 ],
 "metadata": {
  "kernelspec": {
   "display_name": "Python 3",
   "language": "python",
   "name": "python3"
  },
  "language_info": {
   "codemirror_mode": {
    "name": "ipython",
    "version": 3
   },
   "file_extension": ".py",
   "mimetype": "text/x-python",
   "name": "python",
   "nbconvert_exporter": "python",
   "pygments_lexer": "ipython3",
   "version": "3.12.3"
  }
 },
 "nbformat": 4,
 "nbformat_minor": 5
}
