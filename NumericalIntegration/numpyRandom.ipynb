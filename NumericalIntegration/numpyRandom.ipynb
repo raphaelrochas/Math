{
 "cells": [
  {
   "cell_type": "markdown",
   "id": "d051e220",
   "metadata": {},
   "source": [
    "# Fonction Random \n"
   ]
  },
  {
   "cell_type": "code",
   "execution_count": 1,
   "id": "e4e70cc7",
   "metadata": {},
   "outputs": [],
   "source": [
    "import numpy as np \n",
    "from numpy import random\n",
    "import math\n"
   ]
  },
  {
   "cell_type": "markdown",
   "id": "fbc02af7",
   "metadata": {},
   "source": [
    "- Quelques fonctions pour générer des variables speudos aléatoires"
   ]
  },
  {
   "cell_type": "code",
   "execution_count": 2,
   "id": "7741d443",
   "metadata": {},
   "outputs": [
    {
     "name": "stdout",
     "output_type": "stream",
     "text": [
      "0.8209651529991514\n",
      "[42.54650065 79.88979245 11.18758457 75.62312864 69.6751385  70.64803138\n",
      " 99.52373486 64.23092693 25.52067756 50.81621482]\n"
     ]
    }
   ],
   "source": [
    "# Nombre aléatoire\n",
    "randomVariable = random.rand()\n",
    "print(randomVariable)\n",
    "\n",
    "# Géneration de tableau aléatoire\n",
    "randomTableau = random.uniform(low=0, high=100, size=10)\n",
    "print(randomTableau)"
   ]
  },
  {
   "cell_type": "markdown",
   "id": "2422bbb7",
   "metadata": {},
   "source": [
    "- Pour générer des nombres aléatoires on utilise des series de périodes extreeement longue.\n",
    "    En utilisant la même seed on peut donc générer les même nombres aléatoires "
   ]
  },
  {
   "cell_type": "code",
   "execution_count": 3,
   "id": "22d80f53",
   "metadata": {},
   "outputs": [
    {
     "name": "stdout",
     "output_type": "stream",
     "text": [
      "[3.86978024 2.1943922  4.2929896  3.48684015 0.47088674 4.87811176\n",
      " 3.80569851 3.93032153 0.64056816 2.25192969] [3.86978024 2.1943922  4.2929896  3.48684015 0.47088674 4.87811176\n",
      " 3.80569851 3.93032153 0.64056816 2.25192969]\n"
     ]
    }
   ],
   "source": [
    "rng1 = random.default_rng(seed=42)\n",
    "randomTableau1 = rng1.uniform(low=0, high=5, size=10)\n",
    "rng2 = random.default_rng(seed=42)\n",
    "randomTableau2 = rng2.uniform(low=0, high=5, size=10)\n",
    "\n",
    "print(randomTableau1, randomTableau2)"
   ]
  },
  {
   "cell_type": "markdown",
   "id": "8425889f",
   "metadata": {},
   "source": [
    "- On peut également générer des nombres aléatoire suivant les distrubutions de probabilité les plus courantes"
   ]
  },
  {
   "cell_type": "code",
   "execution_count": 4,
   "id": "e21d08c5",
   "metadata": {},
   "outputs": [
    {
     "name": "stdout",
     "output_type": "stream",
     "text": [
      "[2.76258281 2.98260349 3.05285862 3.09229589 4.08312129 3.22781013\n",
      " 2.7585869  3.64893748 3.15858811 3.30677219]\n",
      "[0 1 2 1 0 0 0 1 1 0]\n"
     ]
    }
   ],
   "source": [
    "# Gausienne\n",
    "gaussTableau = random.normal(loc=3., scale=1., size=10)  # moyenne de la distribution / écart type / taille\n",
    "print(gaussTableau)\n",
    "\n",
    "# Binomial\n",
    "binomialTableau = random.binomial(n=5, p=0.1, size=10) # Nombre d'essais / probabilité de réussite /taille\n",
    "print(binomialTableau)"
   ]
  },
  {
   "cell_type": "markdown",
   "id": "f55fdb47",
   "metadata": {},
   "source": [
    "- Choix aléatoire dans un tableau"
   ]
  },
  {
   "cell_type": "code",
   "execution_count": 5,
   "id": "5050de8a",
   "metadata": {},
   "outputs": [
    {
     "data": {
      "text/plain": [
       "2.7585868975719343"
      ]
     },
     "execution_count": 5,
     "metadata": {},
     "output_type": "execute_result"
    }
   ],
   "source": [
    "random.choice(gaussTableau)"
   ]
  },
  {
   "cell_type": "code",
   "execution_count": null,
   "id": "82478859",
   "metadata": {},
   "outputs": [],
   "source": []
  }
 ],
 "metadata": {
  "kernelspec": {
   "display_name": "Python 3",
   "language": "python",
   "name": "python3"
  },
  "language_info": {
   "codemirror_mode": {
    "name": "ipython",
    "version": 3
   },
   "file_extension": ".py",
   "mimetype": "text/x-python",
   "name": "python",
   "nbconvert_exporter": "python",
   "pygments_lexer": "ipython3",
   "version": "3.12.3"
  }
 },
 "nbformat": 4,
 "nbformat_minor": 5
}
